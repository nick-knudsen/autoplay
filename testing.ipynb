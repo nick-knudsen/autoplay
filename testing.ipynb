{
 "cells": [
  {
   "cell_type": "code",
   "execution_count": 8,
   "metadata": {},
   "outputs": [],
   "source": [
    "from datetime import timedelta\n",
    "from src.data_tools.last_fm_data import create_user\n",
    "from src.models.models import calc_all_time_proximities\n",
    "import pandas as pd"
   ]
  },
  {
   "cell_type": "code",
   "execution_count": 24,
   "metadata": {},
   "outputs": [],
   "source": [
    "user = create_user(\"Nesdunk14\", 500)\n",
    "prox = calc_all_time_proximities(user, timedelta(seconds=3600))"
   ]
  },
  {
   "cell_type": "code",
   "execution_count": 25,
   "metadata": {},
   "outputs": [],
   "source": [
    "scrobbles = pd.DataFrame()\n",
    "scrobbles[[\"Title\",\"Album\",\"Artist\",\"Datetime\"]] = [[track.title, track.album, track.artist, track.date] for track in user.tracks]"
   ]
  },
  {
   "cell_type": "code",
   "execution_count": 35,
   "metadata": {},
   "outputs": [
    {
     "data": {
      "text/plain": [
       "{Cosmic Sans, Motivational Music For The Syncopated Soul, Cory Wong, 2022-01-02 19:25:00: 26.25,\n",
       " Paris, Paris, Else, 2022-01-02 19:21:00: 46.5,\n",
       " On The Move, オン・ザ・ムーヴ, Jun Fukamachi, 2022-01-02 19:15:00: 75.0,\n",
       " Métropole, Métropole, Anomalie, 2022-01-02 19:08:00: 18.0,\n",
       " Manic Phases, Ready to Dine, Stevie Dinner, 2022-01-02 19:04:00: 21.0,\n",
       " Weekend Wind, Sketches, Ducktails, 2022-01-02 19:01:00: 16.5,\n",
       " Mother Nature's Bitch, Watch This Liquid Pour Itself, OKAY KAYA, 2022-01-02 18:59:00: 27.0,\n",
       " Desire Path, Half a Human, Real Estate, 2022-01-02 18:58:00: 24.0,\n",
       " Wildflower, Depression Cherry, Beach House, 2022-01-02 18:54:00: 12.0}"
      ]
     },
     "execution_count": 35,
     "metadata": {},
     "output_type": "execute_result"
    }
   ],
   "source": [
    "prox[user.tracks[350]]\n",
    "#user.tracks[350]"
   ]
  }
 ],
 "metadata": {
  "interpreter": {
   "hash": "7fc5e81d9c92e3926ece7cd6b03d63f415263feb7fd87bffe19a9320770e3bbd"
  },
  "kernelspec": {
   "display_name": "Python 3.9.2 64-bit ('.venv': venv)",
   "language": "python",
   "name": "python3"
  },
  "language_info": {
   "codemirror_mode": {
    "name": "ipython",
    "version": 3
   },
   "file_extension": ".py",
   "mimetype": "text/x-python",
   "name": "python",
   "nbconvert_exporter": "python",
   "pygments_lexer": "ipython3",
   "version": "3.9.2"
  },
  "orig_nbformat": 4
 },
 "nbformat": 4,
 "nbformat_minor": 2
}
